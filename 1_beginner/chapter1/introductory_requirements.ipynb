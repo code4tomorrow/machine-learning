{
  "nbformat": 4,
  "nbformat_minor": 0,
  "metadata": {
    "colab": {
      "name": "Chapter 1 - Introductory Requirements.ipynb",
      "provenance": [],
      "authorship_tag": "ABX9TyOo+nPzCP25lGI1mnZPnqLV",
      "include_colab_link": true
    },
    "kernelspec": {
      "name": "python3",
      "display_name": "Python 3"
    }
  },
  "cells": [
    {
      "cell_type": "markdown",
      "metadata": {
        "id": "view-in-github",
        "colab_type": "text"
      },
      "source": [
        "<a href=\"https://colab.research.google.com/github/code4tomorrow/machine-learning/blob/main/1_beginner/chapter1/introductory_requirements.ipynb\" target=\"_parent\"><img src=\"https://colab.research.google.com/assets/colab-badge.svg\" alt=\"Open In Colab\"/></a>"
      ]
    },
    {
      "cell_type": "markdown",
      "metadata": {
        "id": "0KnM2svZOHlV"
      },
      "source": [
        "### **Introductory Requirements**"
      ]
    },
    {
      "cell_type": "markdown",
      "metadata": {
        "id": "t8lAvT9dOPjG"
      },
      "source": [
        "**Imports**"
      ]
    },
    {
      "cell_type": "markdown",
      "metadata": {
        "id": "vjs6Tm2lJjOp"
      },
      "source": [
        "Click the cell, and run it. There should be no active output, but now you have access to the pandas library. We’ll get to what it does in a minute. Meanwhile, this is a good place to explain what the import syntax means. The first two words should be fairly obvious, we’re just importing pandas. However, we’ll be calling pandas functions a lot, and typing out pandas every time will be really tiresome. So instead, we import pandas with a nickname, so to speak. For convention, we’ll be using pd, but you could really use anything."
      ]
    },
    {
      "cell_type": "code",
      "metadata": {
        "id": "5mEjZRiShwVU"
      },
      "source": [
        "import pandas as pd"
      ],
      "execution_count": null,
      "outputs": []
    },
    {
      "cell_type": "markdown",
      "metadata": {
        "id": "xS_-9--_JnU9"
      },
      "source": [
        "NumPy is a math library, but even though we’re going to be doing a lot of math, we’ll use NumPy somewhat rarely. \r\n",
        "\r\n",
        "np is our standard “nickname” for NumPy."
      ]
    },
    {
      "cell_type": "code",
      "metadata": {
        "id": "G-uTYBA2h3kD"
      },
      "source": [
        "import numpy as np"
      ],
      "execution_count": null,
      "outputs": []
    },
    {
      "cell_type": "markdown",
      "metadata": {
        "id": "vtvBOYkiJzHv"
      },
      "source": [
        "Matplotlib is our graphing library, and we’ll be using this to visualize our problems and results. We’re not going to go very far into detail in this course, but we’ll do more in the next course on Classification. At any rate, MatPlotLib is still a really important library, and you should know how to use it."
      ]
    },
    {
      "cell_type": "code",
      "metadata": {
        "id": "D8WEs3Lzh5cO"
      },
      "source": [
        "import matplotlib.pyplot as plt"
      ],
      "execution_count": null,
      "outputs": []
    },
    {
      "cell_type": "markdown",
      "metadata": {
        "id": "GMkPQvplJ550"
      },
      "source": [
        "**Scikit Learn** - \r\n",
        "\r\n",
        "Scikit learn is our Machine Learning library, and contains the actual algorithms that perform the ML. We’re going to be importing it a lot, but not as a full package, the way we imported Pandas or Numpy. SciKit Learn contains an incredible number of functions and functionalities, so we’ll be importing the individual components instead of the total."
      ]
    },
    {
      "cell_type": "markdown",
      "metadata": {
        "id": "fgmn54GYK52v"
      },
      "source": [
        "Run the next cell, which contains a for-loop to print every number between 1 and 9."
      ]
    },
    {
      "cell_type": "code",
      "metadata": {
        "id": "Cefq0aWoK3IC"
      },
      "source": [
        "for i in range(1,10):\r\n",
        "  print(i)"
      ],
      "execution_count": null,
      "outputs": []
    },
    {
      "cell_type": "markdown",
      "metadata": {
        "id": "fze-_QaTOWma"
      },
      "source": [
        "**Iteration**"
      ]
    },
    {
      "cell_type": "markdown",
      "metadata": {
        "id": "HR2nhqlSK_Yu"
      },
      "source": [
        " In the next cell, write a for-loop to print the employee IDs of the employees mentioned in exampleDf."
      ]
    },
    {
      "cell_type": "code",
      "metadata": {
        "id": "9ta-_dIGK5Jj"
      },
      "source": [
        "#for loop to print the employee IDs of the employees from exampleDf"
      ],
      "execution_count": null,
      "outputs": []
    },
    {
      "cell_type": "markdown",
      "metadata": {
        "id": "f94KGrLYOiOK"
      },
      "source": [
        "**Sets**"
      ]
    },
    {
      "cell_type": "markdown",
      "metadata": {
        "id": "4oCJMwYjLj7p"
      },
      "source": [
        "There are two easy ways to create a set. The first one is just a direct initialization:\r\n",
        "\r\n",
        "\r\n",
        "*set1 = {“item1”, “item2”, “item3”}*\r\n",
        "\r\n",
        "The second way involves using the set constructor to create a set:\r\n",
        "\r\n",
        "\r\n",
        "*set2 = set((“item1”, “item2”, “item3”))*\r\n",
        "\r\n",
        "\r\n",
        "Duplicates are not allowed. Sets don’t have a particular order and the set is unchangeable. "
      ]
    },
    {
      "cell_type": "code",
      "metadata": {
        "id": "pVyMtlMkujzg"
      },
      "source": [
        "setOne = {\"item1\", \"item2\", \"item3\"}\r\n",
        "setTwo = set((\"item1\", \"item2\", \"item3\"))"
      ],
      "execution_count": null,
      "outputs": []
    },
    {
      "cell_type": "code",
      "metadata": {
        "id": "MU5AUcTRwWrK"
      },
      "source": [
        "setOne"
      ],
      "execution_count": null,
      "outputs": []
    },
    {
      "cell_type": "code",
      "metadata": {
        "id": "_UhF2472wzki"
      },
      "source": [
        "setTwo"
      ],
      "execution_count": null,
      "outputs": []
    },
    {
      "cell_type": "markdown",
      "metadata": {
        "id": "QR_YiyToLzP5"
      },
      "source": [
        "To get the length of a set: *len(set)*\r\n",
        "\r\n"
      ]
    },
    {
      "cell_type": "code",
      "metadata": {
        "id": "ea4GYK4gw0Pz"
      },
      "source": [
        "len(setOne)"
      ],
      "execution_count": null,
      "outputs": []
    },
    {
      "cell_type": "code",
      "metadata": {
        "id": "eLaJdnvfw3SP"
      },
      "source": [
        "len(setTwo)"
      ],
      "execution_count": null,
      "outputs": []
    },
    {
      "cell_type": "markdown",
      "metadata": {
        "id": "jVLFVaxtOkeZ"
      },
      "source": [
        "**Tuples**"
      ]
    },
    {
      "cell_type": "markdown",
      "metadata": {
        "id": "6glysryJL8w3"
      },
      "source": [
        "A tuple is another way of storing many values in a single variable. Like with Sets, there are two ways to create a new tuple.\r\n",
        "\r\n",
        "*tupleOne = (“itemOne”, “itemTwo”, “itemThree”, “itemFour”)*\r\n",
        "\r\n",
        "The second way to create a tuple is using the tuple constructor.\r\n",
        "\r\n",
        "*tupleTwo = tuple((“itemOne”, “itemTwo”, “itemThree”, “itemFour”))*\r\n",
        "\r\n"
      ]
    },
    {
      "cell_type": "code",
      "metadata": {
        "id": "rJ8-sNpWw4nS"
      },
      "source": [
        "tupleOne = (\"itemOne\", \"itemTwo\", \"itemThree\", \"itemFour\")\r\n",
        "tupleTwo = tuple((\"itemOne\", \"itemTwo\", \"itemThree\", \"itemFour\"))"
      ],
      "execution_count": null,
      "outputs": []
    },
    {
      "cell_type": "code",
      "metadata": {
        "colab": {
          "base_uri": "https://localhost:8080/"
        },
        "id": "5n9JMrOP0mBx",
        "outputId": "9f2ae3b1-8cab-46e6-c847-f29a78f4c341"
      },
      "source": [
        "tupleOne"
      ],
      "execution_count": null,
      "outputs": [
        {
          "output_type": "execute_result",
          "data": {
            "text/plain": [
              "('itemOne', 'itemTwo', 'itemThree', 'itemFour')"
            ]
          },
          "metadata": {
            "tags": []
          },
          "execution_count": 36
        }
      ]
    },
    {
      "cell_type": "code",
      "metadata": {
        "colab": {
          "base_uri": "https://localhost:8080/"
        },
        "id": "7G3itc8U0zQ0",
        "outputId": "5c700e98-9584-4953-ac09-29a0d92f67de"
      },
      "source": [
        "tupleTwo"
      ],
      "execution_count": null,
      "outputs": [
        {
          "output_type": "execute_result",
          "data": {
            "text/plain": [
              "('itemOne', 'itemTwo', 'itemThree', 'itemFour')"
            ]
          },
          "metadata": {
            "tags": []
          },
          "execution_count": 37
        }
      ]
    },
    {
      "cell_type": "markdown",
      "metadata": {
        "id": "iveuHo85MLQo"
      },
      "source": [
        "The same length method, *len(tuple)*, applies."
      ]
    },
    {
      "cell_type": "code",
      "metadata": {
        "colab": {
          "base_uri": "https://localhost:8080/"
        },
        "id": "FtxT7B9U0zxQ",
        "outputId": "4d83592e-8dca-4f12-ec43-98cd11abee4b"
      },
      "source": [
        "len(tupleOne)"
      ],
      "execution_count": null,
      "outputs": [
        {
          "output_type": "execute_result",
          "data": {
            "text/plain": [
              "4"
            ]
          },
          "metadata": {
            "tags": []
          },
          "execution_count": 38
        }
      ]
    },
    {
      "cell_type": "code",
      "metadata": {
        "colab": {
          "base_uri": "https://localhost:8080/"
        },
        "id": "laSJ-bJd01rr",
        "outputId": "15586738-5968-44ec-c6fa-02fd1f27c6a3"
      },
      "source": [
        "len(tupleTwo)"
      ],
      "execution_count": null,
      "outputs": [
        {
          "output_type": "execute_result",
          "data": {
            "text/plain": [
              "4"
            ]
          },
          "metadata": {
            "tags": []
          },
          "execution_count": 39
        }
      ]
    },
    {
      "cell_type": "markdown",
      "metadata": {
        "id": "SMz1rhZLOnfa"
      },
      "source": [
        "**Dictionaries**"
      ]
    },
    {
      "cell_type": "markdown",
      "metadata": {
        "id": "PmYNXU8eMX3N"
      },
      "source": [
        "A dictionary in Python is a lot like a dictionary in the real world. For every word, there’s a particular meaning associated. This is what a dictionary is like. You look for the word, and find its meaning. You’ll see the syntax to create a new dictionary in the next cell. You can run this."
      ]
    },
    {
      "cell_type": "code",
      "metadata": {
        "colab": {
          "base_uri": "https://localhost:8080/"
        },
        "id": "gWDieSX7LNZt",
        "outputId": "55aaad5a-8e91-4545-e47d-163115273174"
      },
      "source": [
        "exampleDict = {'X': [1,2,3,4], 'X^2' : [1,4,9,16]}\r\n",
        "exampleDict"
      ],
      "execution_count": null,
      "outputs": [
        {
          "output_type": "execute_result",
          "data": {
            "text/plain": [
              "{'X': [1, 2, 3, 4], 'X^2': [1, 4, 9, 16]}"
            ]
          },
          "metadata": {
            "tags": []
          },
          "execution_count": 3
        }
      ]
    },
    {
      "cell_type": "markdown",
      "metadata": {
        "id": "nkjREePGMpG1"
      },
      "source": [
        "\r\n",
        "A dictionary consists of two main parts, a key and a value. If you specify a particular key, you can extract the corresponding value from the dictionary. However, Dictionaries don’t allow duplicate keys, for obvious reasons. If a real world dictionary contained two words with the same spelling, but different meanings, how would you know which one to reference?\r\n",
        "\r\n",
        "*dict[“key”]*, for example, provides the value at the particular key within the dictionary dict."
      ]
    },
    {
      "cell_type": "code",
      "metadata": {
        "colab": {
          "base_uri": "https://localhost:8080/"
        },
        "id": "7az12U83MuUf",
        "outputId": "d87c25a8-8c2e-4610-c161-e719b5a288a0"
      },
      "source": [
        "exampleDict[\"X\"]"
      ],
      "execution_count": null,
      "outputs": [
        {
          "output_type": "execute_result",
          "data": {
            "text/plain": [
              "[1, 2, 3, 4]"
            ]
          },
          "metadata": {
            "tags": []
          },
          "execution_count": 4
        }
      ]
    },
    {
      "cell_type": "markdown",
      "metadata": {
        "id": "P-AcInp4NNYD"
      },
      "source": [
        "*len(dict)* gives the length of the dictionary, and the number of keys in it."
      ]
    },
    {
      "cell_type": "code",
      "metadata": {
        "colab": {
          "base_uri": "https://localhost:8080/"
        },
        "id": "tf7Sog7_NSqj",
        "outputId": "d372873a-0007-4a8d-da05-1020f2358356"
      },
      "source": [
        "len(exampleDict)"
      ],
      "execution_count": null,
      "outputs": [
        {
          "output_type": "execute_result",
          "data": {
            "text/plain": [
              "2"
            ]
          },
          "metadata": {
            "tags": []
          },
          "execution_count": 5
        }
      ]
    },
    {
      "cell_type": "markdown",
      "metadata": {
        "id": "c09AkEIqOqxG"
      },
      "source": [
        "**Pandas and Dataframes**"
      ]
    },
    {
      "cell_type": "markdown",
      "metadata": {
        "id": "L1tm3OlYM1ep"
      },
      "source": [
        "Dataframes are the basis of Pandas. Dataframes are like Excel Sheets, effectively. They’re tables that contain information formatted as rows and columns. Click the next cell, and press *Shift+Enter*, and run it. This cell first creates a dictionary and then converts it to a dataframe. Don’t worry about dictionaries if you don’t recognize those - we’ll get to those in a moment.\r\n",
        "The table that has appeared below the cell is what a dataframe looks like.\r\n",
        "\r\n",
        "Our method of creating a dictionary actually involves fitting a list of values under each key, but you can put anything under it, no matter the data type."
      ]
    },
    {
      "cell_type": "code",
      "metadata": {
        "id": "lihiyiEULPUd"
      },
      "source": [
        "exampleDictTwo = {'EmployeeID': ['0001','0002','0003','0004','0005','0006','0007','0008'],\r\n",
        "        'Job': ['Police Officer','Programmer','Data Scientist','Machine Learning Engineer','Data Engineer','MLOps Engineer','Python Developer','Statistician']\r\n",
        "        }\r\n",
        "exampleDf = pd.DataFrame(exampleDictTwo,columns = ['EmployeeID','Job'])        \r\n",
        "exampleDf"
      ],
      "execution_count": null,
      "outputs": []
    },
    {
      "cell_type": "markdown",
      "metadata": {
        "id": "fgaR66V-NI9g"
      },
      "source": [
        "There are many operations on Dataframes, but there are only a few we’ll be using.\r\n",
        "\r\n",
        "*.head()* is one of the most useful dataframe methods. This operation produces the top or head of a dataframe. The operation gives the first 5 rows by default, but you can specify any number n of rows as *.head(n)*\r\n",
        "\r\n",
        "Run the next two cells. These will give the top of a data frame. We use *.head()* to get a sense of what the dataframe is like, before we work on it.\r\n",
        "\r\n"
      ]
    },
    {
      "cell_type": "code",
      "metadata": {
        "id": "XSzc5BnXLUk8"
      },
      "source": [
        "exampleDf.head()"
      ],
      "execution_count": null,
      "outputs": []
    },
    {
      "cell_type": "code",
      "metadata": {
        "id": "Mo6oT7pVLWx1"
      },
      "source": [
        "exampleDf.head(2)"
      ],
      "execution_count": null,
      "outputs": []
    },
    {
      "cell_type": "markdown",
      "metadata": {
        "id": "gW4e8xaMOBXw"
      },
      "source": [
        "We’ll cover more Data frame operations soon, but we’ll do it as part of the ML we do. For now, however, let’s review Python in a quiz first.\r\n",
        "\r\n"
      ]
    }
  ]
}