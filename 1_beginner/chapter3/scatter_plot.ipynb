{
  "nbformat": 4,
  "nbformat_minor": 0,
  "metadata": {
    "colab": {
      "name": "Copy of Scatter Plot Practice",
      "provenance": [],
      "authorship_tag": "ABX9TyMjwMQcxKdqBXYs49TDG1BR",
      "include_colab_link": true
    },
    "kernelspec": {
      "name": "python3",
      "display_name": "Python 3"
    }
  },
  "cells": [
    {
      "cell_type": "markdown",
      "metadata": {
        "id": "view-in-github",
        "colab_type": "text"
      },
      "source": [
        "<a href=\"https://colab.research.google.com/github/code4tomorrow/machine-learning/blob/main/Scatter_Plot_Practice.ipynb\" target=\"_parent\"><img src=\"https://colab.research.google.com/assets/colab-badge.svg\" alt=\"Open In Colab\"/></a>"
      ]
    },
    {
      "cell_type": "markdown",
      "metadata": {
        "id": "g1arUVAjecxK"
      },
      "source": [
        "**Scatter Plot Practice** \r\n",
        "\r\n",
        "In this section, plot attributeOne against attributeTwo, and label the axes. The resulting scatter plot should look a little like the line y = 2x."
      ]
    },
    {
      "cell_type": "code",
      "metadata": {
        "id": "0WR6JSiXZtx7"
      },
      "source": [
        "import matplotlib.pyplot as plt\r\n",
        "%matplotlib inline\r\n",
        "attributeOne = [1,2,3,4,5,6,7,8]\r\n",
        "attributeTwo = [2,3,6,8,11,12,14,16]\r\n",
        "#Create a scatter plot of attributeOne against attributeTwo by editing this cell, label the axes."
      ],
      "execution_count": null,
      "outputs": []
    },
    {
      "cell_type": "markdown",
      "metadata": {
        "id": "2ub5vuYYfAmh"
      },
      "source": [
        "In this section, plot x against y, and label the axes. The resulting scatter plot should look a little like the line y = x + 1.\r\n",
        "\r\n",
        "---\r\n",
        "\r\n"
      ]
    },
    {
      "cell_type": "code",
      "metadata": {
        "id": "qejke3o1ebbZ"
      },
      "source": [
        "x = [1,2,3,4,5,6,7,8]\r\n",
        "y = [2,4,4,5,5,7,8,9]\r\n",
        "#Create a scatter plot of x against y by editing this cell, label the axes."
      ],
      "execution_count": null,
      "outputs": []
    },
    {
      "cell_type": "markdown",
      "metadata": {
        "id": "-AgUDa-tgXcC"
      },
      "source": [
        "In this section, plot x against y, and label the axes. The resulting scatter plot should look a little like:\r\n",
        "\r\n",
        "![gif.jpg](data:image/jpeg;base64,R0lGODlhUwAUALMAAP///wAAAMzMzKqqqmZmZu7u7hAQEERERIiIiLq6unZ2dlRUVCIiItzc3JiYmDIyMiH5BAEAAAAALAAAAABTABQAAAT0EMhJq704D6dI/mAojlmDSItCrmwLCo/kHG5t24p67/xXMIWecIgShILEZAZhbIAcCaWUkogCTh+oTTDwSLrDRLeRcBAKjYA6oMtoQWIC2VwoDAAGI+CArRAWgIGCbRRcAAIHDgAMViRvGYaIioxRAgETeUJYlkGKLI8YmwGdEwoLEpZKCKckf4EPD4NLrBSMEgg0SQ93NaAfuxUFoxJ8GK6CshZRaUh9jo0Yy8NXE5cAaXo8DgwA251On9AW291A3eDdChzWPQ0KA2Tv2Su+Fe7wCfIXCF5TveIrHlgxgM5fizo2WBHwZLDhBQcOEPBySHFCBAA7)"
      ]
    },
    {
      "cell_type": "code",
      "metadata": {
        "id": "Fk9kHCKVe8yf"
      },
      "source": [
        "x = [1,2,3,4,5,6,7,8]\r\n",
        "g = [2,6,12,20,42,56,72]\r\n",
        "#Create a scatter plot of x against g by editing this cell, label the axes."
      ],
      "execution_count": null,
      "outputs": []
    }
  ]
}