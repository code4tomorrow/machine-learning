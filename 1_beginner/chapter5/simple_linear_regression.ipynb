{
  "nbformat": 4,
  "nbformat_minor": 0,
  "metadata": {
    "colab": {
      "name": "Simple_Linear_Regression_Exercise.ipynb",
      "provenance": [],
      "collapsed_sections": [],
      "include_colab_link": true
    },
    "kernelspec": {
      "name": "python3",
      "display_name": "Python 3"
    }
  },
  "cells": [
    {
      "cell_type": "markdown",
      "metadata": {
        "id": "view-in-github",
        "colab_type": "text"
      },
      "source": [
        "<a href=\"https://colab.research.google.com/github/code4tomorrow/machine-learning/blob/main/1_beginner/chapter5/simple_linear_regression.ipynb\" target=\"_parent\"><img src=\"https://colab.research.google.com/assets/colab-badge.svg\" alt=\"Open In Colab\"/></a>"
      ]
    },
    {
      "cell_type": "markdown",
      "metadata": {
        "id": "N-23Z-4SecVJ"
      },
      "source": [
        "### **Machine Learning: Simple Linear Regression**\n",
        "\n",
        "In this notebook, we will attempt to implement Simple Linear Regression on a Physics dataset. \n",
        "\n",
        "In particular, this dataset contains the movement of a marble in its horizontal and vertical coordinates and the time since the motion began. You will see how to use Simple Linear Regression to predict the future horizontal coordinate of the marble when given the time, and you can then implement one to predict the future vertical coordinate."
      ]
    },
    {
      "cell_type": "markdown",
      "metadata": {
        "id": "iY9rZj6dfSJI"
      },
      "source": [
        "Let us first import the required libraries: NumPy, Pandas, and Matplotlib."
      ]
    },
    {
      "cell_type": "code",
      "metadata": {
        "id": "FrjIGRzGOabE"
      },
      "source": [
        "import numpy as np\n",
        "import pandas as pd\n",
        "import matplotlib.pyplot as plt"
      ],
      "execution_count": 14,
      "outputs": []
    },
    {
      "cell_type": "markdown",
      "metadata": {
        "id": "_wktXXNXfYSX"
      },
      "source": [
        "Now let's upload data into the notebook. Click the button \"Choose Files\" and upload the file 'Marble.csv'"
      ]
    },
    {
      "cell_type": "code",
      "metadata": {
        "id": "Kaz-A2shObhh"
      },
      "source": [
        "from google.colab import files\n",
        "uploaded = files.upload()"
      ],
      "execution_count": null,
      "outputs": []
    },
    {
      "cell_type": "markdown",
      "metadata": {
        "id": "wcJlTuEEfsGi"
      },
      "source": [
        "Now by using read_csv(), let's put our data into a dataframe."
      ]
    },
    {
      "cell_type": "code",
      "metadata": {
        "id": "21kRBV8FOd6x"
      },
      "source": [
        "df = pd.read_csv(\"Marble #3.xls\")"
      ],
      "execution_count": 7,
      "outputs": []
    },
    {
      "cell_type": "markdown",
      "metadata": {
        "id": "99bfrXLdfxiw"
      },
      "source": [
        "Let's see what the data set looks like:"
      ]
    },
    {
      "cell_type": "code",
      "metadata": {
        "colab": {
          "base_uri": "https://localhost:8080/",
          "height": 419
        },
        "id": "36yn_jyWO5bV",
        "outputId": "d5f06e0d-cd0f-4803-d85f-d40c59002fd3"
      },
      "source": [
        "df.head(-5)"
      ],
      "execution_count": 8,
      "outputs": [
        {
          "output_type": "execute_result",
          "data": {
            "text/html": [
              "<div>\n",
              "<style scoped>\n",
              "    .dataframe tbody tr th:only-of-type {\n",
              "        vertical-align: middle;\n",
              "    }\n",
              "\n",
              "    .dataframe tbody tr th {\n",
              "        vertical-align: top;\n",
              "    }\n",
              "\n",
              "    .dataframe thead th {\n",
              "        text-align: right;\n",
              "    }\n",
              "</style>\n",
              "<table border=\"1\" class=\"dataframe\">\n",
              "  <thead>\n",
              "    <tr style=\"text-align: right;\">\n",
              "      <th></th>\n",
              "      <th>t(s)</th>\n",
              "      <th>x(m)</th>\n",
              "      <th>y(m)</th>\n",
              "    </tr>\n",
              "  </thead>\n",
              "  <tbody>\n",
              "    <tr>\n",
              "      <th>0</th>\n",
              "      <td>0.000000</td>\n",
              "      <td>-0.66446</td>\n",
              "      <td>0.43275</td>\n",
              "    </tr>\n",
              "    <tr>\n",
              "      <th>1</th>\n",
              "      <td>0.004167</td>\n",
              "      <td>-0.66957</td>\n",
              "      <td>0.43445</td>\n",
              "    </tr>\n",
              "    <tr>\n",
              "      <th>2</th>\n",
              "      <td>0.008333</td>\n",
              "      <td>-0.66787</td>\n",
              "      <td>0.43275</td>\n",
              "    </tr>\n",
              "    <tr>\n",
              "      <th>3</th>\n",
              "      <td>0.012500</td>\n",
              "      <td>-0.66787</td>\n",
              "      <td>0.43275</td>\n",
              "    </tr>\n",
              "    <tr>\n",
              "      <th>4</th>\n",
              "      <td>0.016667</td>\n",
              "      <td>-0.66446</td>\n",
              "      <td>0.42934</td>\n",
              "    </tr>\n",
              "    <tr>\n",
              "      <th>...</th>\n",
              "      <td>...</td>\n",
              "      <td>...</td>\n",
              "      <td>...</td>\n",
              "    </tr>\n",
              "    <tr>\n",
              "      <th>168</th>\n",
              "      <td>0.700000</td>\n",
              "      <td>0.46001</td>\n",
              "      <td>-0.39186</td>\n",
              "    </tr>\n",
              "    <tr>\n",
              "      <th>169</th>\n",
              "      <td>0.704167</td>\n",
              "      <td>0.47194</td>\n",
              "      <td>-0.41742</td>\n",
              "    </tr>\n",
              "    <tr>\n",
              "      <th>170</th>\n",
              "      <td>0.708333</td>\n",
              "      <td>0.48046</td>\n",
              "      <td>-0.42934</td>\n",
              "    </tr>\n",
              "    <tr>\n",
              "      <th>171</th>\n",
              "      <td>0.712500</td>\n",
              "      <td>0.48897</td>\n",
              "      <td>-0.44297</td>\n",
              "    </tr>\n",
              "    <tr>\n",
              "      <th>172</th>\n",
              "      <td>0.716667</td>\n",
              "      <td>0.49068</td>\n",
              "      <td>-0.44979</td>\n",
              "    </tr>\n",
              "  </tbody>\n",
              "</table>\n",
              "<p>173 rows × 3 columns</p>\n",
              "</div>"
            ],
            "text/plain": [
              "         t(s)     x(m)     y(m)\n",
              "0    0.000000 -0.66446  0.43275\n",
              "1    0.004167 -0.66957  0.43445\n",
              "2    0.008333 -0.66787  0.43275\n",
              "3    0.012500 -0.66787  0.43275\n",
              "4    0.016667 -0.66446  0.42934\n",
              "..        ...      ...      ...\n",
              "168  0.700000  0.46001 -0.39186\n",
              "169  0.704167  0.47194 -0.41742\n",
              "170  0.708333  0.48046 -0.42934\n",
              "171  0.712500  0.48897 -0.44297\n",
              "172  0.716667  0.49068 -0.44979\n",
              "\n",
              "[173 rows x 3 columns]"
            ]
          },
          "metadata": {},
          "execution_count": 8
        }
      ]
    },
    {
      "cell_type": "markdown",
      "metadata": {
        "id": "lK4mIgFUf7JP"
      },
      "source": [
        "Now let's scatter plot the horizontal coordinate denoted by x(m) against the time denoted by t(s), to see what shape the scatter plot indicates."
      ]
    },
    {
      "cell_type": "code",
      "metadata": {
        "colab": {
          "base_uri": "https://localhost:8080/",
          "height": 282
        },
        "id": "aM0k6vtvO72z",
        "outputId": "fcf1042e-a5b4-41c0-e5f5-c0f217a5f3a7"
      },
      "source": [
        "plt.scatter(df[[\"t(s)\"]],df[[\"x(m)\"]])"
      ],
      "execution_count": 15,
      "outputs": [
        {
          "output_type": "execute_result",
          "data": {
            "text/plain": [
              "<matplotlib.collections.PathCollection at 0x7fd37c1c9410>"
            ]
          },
          "metadata": {},
          "execution_count": 15
        },
        {
          "output_type": "display_data",
          "data": {
            "image/png": "[encoded data removed]",
            "text/plain": [
              "<Figure size 432x288 with 1 Axes>"
            ]
          },
          "metadata": {
            "needs_background": "light"
          }
        }
      ]
    },
    {
      "cell_type": "markdown",
      "metadata": {
        "id": "HEXcgVycg6Yc"
      },
      "source": [
        "Now let's perform the train-test split. 0.2 as a test size is a good standard, meaning that we take roughly 20% of the data as testing and 80% as training."
      ]
    },
    {
      "cell_type": "code",
      "metadata": {
        "id": "buE4XmSmc1pL"
      },
      "source": [
        "from sklearn.model_selection import train_test_split\n",
        "\n",
        "t = df[[\"t(s)\"]]\n",
        "x = df[\"x(m)\"]\n",
        "\n",
        "t_train, t_test, x_train, x_test = train_test_split(t, x, test_size=0.2)"
      ],
      "execution_count": 26,
      "outputs": []
    },
    {
      "cell_type": "markdown",
      "metadata": {
        "id": "qAk5AEnDoiZU"
      },
      "source": [
        "Now for the actual Linear Regression. \n",
        "\n",
        "First we import the linear_model library from sklearn."
      ]
    },
    {
      "cell_type": "code",
      "metadata": {
        "id": "VCJfH4UEohTK"
      },
      "source": [
        "from sklearn import linear_model"
      ],
      "execution_count": 20,
      "outputs": []
    },
    {
      "cell_type": "markdown",
      "metadata": {
        "id": "-7fRP0iuorhE"
      },
      "source": [
        "Then we create a LinearRegression object, which can then automatically fit a line to the data. Since we are only inputting one feature, this is simple Linear Regression."
      ]
    },
    {
      "cell_type": "code",
      "metadata": {
        "id": "_rtP9_i8o0w5"
      },
      "source": [
        "regr = linear_model.LinearRegression()"
      ],
      "execution_count": 21,
      "outputs": []
    },
    {
      "cell_type": "markdown",
      "metadata": {
        "id": "qu47rZR8o2u5"
      },
      "source": [
        "The *fit* function of a LinearRegression object takes the training input and output, and fits a curve to it."
      ]
    },
    {
      "cell_type": "code",
      "metadata": {
        "colab": {
          "base_uri": "https://localhost:8080/"
        },
        "id": "39HxWL2FpCtq",
        "outputId": "d8777e79-17db-42e1-800d-7e74b86ac44a"
      },
      "source": [
        "regr.fit(t_train, x_train)"
      ],
      "execution_count": 28,
      "outputs": [
        {
          "output_type": "execute_result",
          "data": {
            "text/plain": [
              "LinearRegression(copy_X=True, fit_intercept=True, n_jobs=None, normalize=False)"
            ]
          },
          "metadata": {},
          "execution_count": 28
        }
      ]
    },
    {
      "cell_type": "markdown",
      "metadata": {
        "id": "PlOIG3WupJxA"
      },
      "source": [
        "Now, we can plot the fitted curve and the data scatterplot together. *regr.coef_* gives you access to the coefficient used, and *regr.intercept_* gives you the intercept."
      ]
    },
    {
      "cell_type": "code",
      "metadata": {
        "colab": {
          "base_uri": "https://localhost:8080/",
          "height": 286
        },
        "id": "1MuVo7YMpEVR",
        "outputId": "ecadae5e-5650-46a9-ee73-c0b82eecf465"
      },
      "source": [
        "plt.scatter(t_train, x_train)\n",
        "plt.plot(t_train, regr.coef_ * t_train + regr.intercept_)"
      ],
      "execution_count": 30,
      "outputs": [
        {
          "output_type": "execute_result",
          "data": {
            "text/plain": [
              "[<matplotlib.lines.Line2D at 0x7fd374874c90>]"
            ]
          },
          "metadata": {},
          "execution_count": 30
        },
        {
          "output_type": "display_data",
          "data": {
            "image/png": "[encoded data removed]",
            "text/plain": [
              "<Figure size 432x288 with 1 Axes>"
            ]
          },
          "metadata": {
            "needs_background": "light"
          }
        }
      ]
    },
    {
      "cell_type": "markdown",
      "metadata": {
        "id": "zlr7SFshpmWK"
      },
      "source": [
        "However, as we discussed, we don't evaluate Regression using the training data set. So let's try this out for the test data set we created earlier."
      ]
    },
    {
      "cell_type": "code",
      "metadata": {
        "colab": {
          "base_uri": "https://localhost:8080/",
          "height": 282
        },
        "id": "Dp2fmuQEpf7q",
        "outputId": "bbcc8134-8d6e-4fc8-bf59-7b442c6d3d59"
      },
      "source": [
        "plt.scatter(t_test, x_test)\n",
        "plt.plot(t_test, regr.coef_ * t_test + regr.intercept_)"
      ],
      "execution_count": 31,
      "outputs": [
        {
          "output_type": "execute_result",
          "data": {
            "text/plain": [
              "[<matplotlib.lines.Line2D at 0x7fd37343ab10>]"
            ]
          },
          "metadata": {},
          "execution_count": 31
        },
        {
          "output_type": "display_data",
          "data": {
            "image/png": "[encoded data removed]",
            "text/plain": [
              "<Figure size 432x288 with 1 Axes>"
            ]
          },
          "metadata": {
            "needs_background": "light"
          }
        }
      ]
    },
    {
      "cell_type": "markdown",
      "metadata": {
        "id": "DT0opyoEp9x1"
      },
      "source": [
        "We'll discuss ways to evaluate a ML model later, but just eyeballing it, this looks like a pretty good fit! Let's try to predict where the marble will be(horizontally) at 0.8s, since that is beyond the range of the data."
      ]
    },
    {
      "cell_type": "code",
      "metadata": {
        "colab": {
          "base_uri": "https://localhost:8080/"
        },
        "id": "K_MNYAdQp1FH",
        "outputId": "fc69086b-098c-44dd-d8a1-c76489756bc7"
      },
      "source": [
        "tester = np.array([[0.8]])\n",
        "regr.predict(tester)"
      ],
      "execution_count": 32,
      "outputs": [
        {
          "output_type": "execute_result",
          "data": {
            "text/plain": [
              "array([0.5969673])"
            ]
          },
          "metadata": {},
          "execution_count": 32
        }
      ]
    },
    {
      "cell_type": "markdown",
      "metadata": {
        "id": "E_C8F1YCq5f1"
      },
      "source": [
        "Eyeballing once again, this looks fairly reasonable given the graph. The above section was really just to demonstrate the *.predict* function."
      ]
    },
    {
      "cell_type": "markdown",
      "metadata": {
        "id": "a_O6a0Kuy8l5"
      },
      "source": [
        "Now, it's your turn. Try to run Linear Regression on y(m) and t(s)."
      ]
    },
    {
      "cell_type": "code",
      "metadata": {
        "id": "qXw8eeEDqYfp"
      },
      "source": [
        "y = df['y(m)']\n",
        "\n",
        "t_train, t_test, y_train, y_test = train_test_split(t, y, test_size=0.2)"
      ],
      "execution_count": 36,
      "outputs": []
    },
    {
      "cell_type": "code",
      "metadata": {
        "colab": {
          "base_uri": "https://localhost:8080/",
          "height": 282
        },
        "id": "8__jJTlkzqVe",
        "outputId": "ef65a3e8-29c6-41ab-9773-528b4b625c66"
      },
      "source": [
        "plt.scatter(t_train, y_train) #Here's a scatter plot of y(m) vs t(s)"
      ],
      "execution_count": 37,
      "outputs": [
        {
          "output_type": "execute_result",
          "data": {
            "text/plain": [
              "<matplotlib.collections.PathCollection at 0x7fd3733e7150>"
            ]
          },
          "metadata": {},
          "execution_count": 37
        },
        {
          "output_type": "display_data",
          "data": {
            "image/png": "[encoded data removed]",
            "text/plain": [
              "<Figure size 432x288 with 1 Axes>"
            ]
          },
          "metadata": {
            "needs_background": "light"
          }
        }
      ]
    },
    {
      "cell_type": "markdown",
      "metadata": {
        "id": "cige-Hus0Sd5"
      },
      "source": [
        "Create a new LinearRegression object, regrTwo."
      ]
    },
    {
      "cell_type": "code",
      "metadata": {
        "id": "4tt0IIOLz1rz"
      },
      "source": [
        "from sklearn import linear_model\n",
        "          #Create a new LinearRegression object here"
      ],
      "execution_count": null,
      "outputs": []
    },
    {
      "cell_type": "markdown",
      "metadata": {
        "id": "RdjIrWjT0j6r"
      },
      "source": [
        "Fit this to *train_t* and *train_y*"
      ]
    },
    {
      "cell_type": "code",
      "metadata": {
        "colab": {
          "base_uri": "https://localhost:8080/"
        },
        "id": "pemM_AsE0f5E",
        "outputId": "d68845d5-b678-43f9-f779-8ff723192757"
      },
      "source": [
        ""
      ],
      "execution_count": null,
      "outputs": [
        {
          "output_type": "execute_result",
          "data": {
            "text/plain": [
              "LinearRegression(copy_X=True, fit_intercept=True, n_jobs=None, normalize=False)"
            ]
          },
          "metadata": {
            "tags": []
          },
          "execution_count": 60
        }
      ]
    },
    {
      "cell_type": "markdown",
      "metadata": {
        "id": "2pP3LGMy0qBx"
      },
      "source": [
        "Create a variable named *pred* which contains the predictions based on the test inputs. The function *predict()* of regrTwo is a more sustainable alternative to directly using the coefficients and intercepts created. The only parameter to this function is the input data, here, *t_test*\n",
        "\n",
        "Scatter *t_test* against *y_test*.\n",
        "\n",
        "Plot *t_test* against *pred*"
      ]
    },
    {
      "cell_type": "code",
      "metadata": {
        "colab": {
          "base_uri": "https://localhost:8080/",
          "height": 282
        },
        "id": "10lYu-qM1Dm4",
        "outputId": "b26fd0b4-a512-4002-c913-8f5bd2c418f6"
      },
      "source": [
        ""
      ],
      "execution_count": null,
      "outputs": [
        {
          "output_type": "execute_result",
          "data": {
            "text/plain": [
              "[<matplotlib.lines.Line2D at 0x7fdfe4cad3c8>]"
            ]
          },
          "metadata": {
            "tags": []
          },
          "execution_count": 61
        },
        {
          "output_type": "display_data",
          "data": {
            "image/png": "[encoded data removed]",
            "text/plain": [
              "<Figure size 432x288 with 1 Axes>"
            ]
          },
          "metadata": {
            "tags": [],
            "needs_background": "light"
          }
        }
      ]
    },
    {
      "cell_type": "markdown",
      "metadata": {
        "id": "1F95Erk81dZI"
      },
      "source": [
        "And that's it! \n",
        "\n",
        "If you did this all right, the line you see above should be fairly close to the curve. This data is not very linear, so don't worry if your model doesn't look too accurate. It just needs to model the general trend."
      ]
    },
    {
      "cell_type": "markdown",
      "metadata": {
        "id": "NV_ko_XU1z7Q"
      },
      "source": [
        "You can refer to the example above: Try out the time 0.8s\n",
        "\n",
        "Where is the marble vertically now?\n",
        "\n",
        "*Something close to -0.4 should be about right.*"
      ]
    },
    {
      "cell_type": "code",
      "metadata": {
        "colab": {
          "base_uri": "https://localhost:8080/"
        },
        "id": "4lzlziUi1u1h",
        "outputId": "1914babe-8f12-4024-c3ea-80d810e493b4"
      },
      "source": [
        ""
      ],
      "execution_count": null,
      "outputs": [
        {
          "output_type": "execute_result",
          "data": {
            "text/plain": [
              "array([[-0.42140737]])"
            ]
          },
          "metadata": {
            "tags": []
          },
          "execution_count": 62
        }
      ]
    },
    {
      "cell_type": "markdown",
      "metadata": {
        "id": "tT0KUZMX3Dgk"
      },
      "source": [
        "Congratulations, you've run your first round of Simple Linear Regression. In the next chapters, we'll study more complex forms of Regression, but they're all based on the foundations you learned today."
      ]
    }
  ]
}