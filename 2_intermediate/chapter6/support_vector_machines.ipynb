{
  "nbformat": 4,
  "nbformat_minor": 0,
  "metadata": {
    "colab": {
      "name": "Chapter 6: Support Vector Machines.ipynb",
      "provenance": [],
      "authorship_tag": "ABX9TyPjoQlpcmq+f2to6CzXp8jz",
      "include_colab_link": true
    },
    "kernelspec": {
      "name": "python3",
      "display_name": "Python 3"
    },
    "language_info": {
      "name": "python"
    }
  },
  "cells": [
    {
      "cell_type": "markdown",
      "metadata": {
        "id": "view-in-github",
        "colab_type": "text"
      },
      "source": [
        "<a href=\"https://colab.research.google.com/github/code4tomorrow/machine-learning/blob/main/2_intermediate/chapter6/support_vector_machines.ipynb\" target=\"_parent\"><img src=\"https://colab.research.google.com/assets/colab-badge.svg\" alt=\"Open In Colab\"/></a>"
      ]
    },
    {
      "cell_type": "markdown",
      "metadata": {
        "id": "0ZVzhUXrivld"
      },
      "source": [
        "## **Support Vector Machines**"
      ]
    },
    {
      "cell_type": "markdown",
      "metadata": {
        "id": "FtteH4mE_qr8"
      },
      "source": [
        "In this notebook, we will apply Support Vector Machines to analyze admit rates, from the same data that we applied Decision Trees to. Most of us are headed to college after school, and maybe this is a relevant topic to analyze! In particular, we are studying graduate admissions, and trying to predict if a particular student will be admitted based on their criteria."
      ]
    },
    {
      "cell_type": "markdown",
      "metadata": {
        "id": "wDMdrtV1nH6e"
      },
      "source": [
        "### **Imports**"
      ]
    },
    {
      "cell_type": "code",
      "metadata": {
        "id": "lJ7CM899iocZ"
      },
      "source": [
        "import pandas as pd\n",
        "import numpy as np\n",
        "import scipy.optimize as opt #This is a functionality from SciPy, a library for Scientific Computing calculations, to find the optimal model."
      ],
      "execution_count": 31,
      "outputs": []
    },
    {
      "cell_type": "markdown",
      "metadata": {
        "id": "gy9lxEnKosOS"
      },
      "source": [
        "## **Data Import**"
      ]
    },
    {
      "cell_type": "markdown",
      "metadata": {
        "id": "jGTlyzMYl_cc"
      },
      "source": [
        "Upload the same data as before, in order to analyze it."
      ]
    },
    {
      "cell_type": "code",
      "metadata": {
        "colab": {
          "resources": {
            "http://localhost:8080/nbextensions/google.colab/files.js": {
              "data": "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",
              "ok": true,
              "headers": [
                [
                  "content-type",
                  "application/javascript"
                ]
              ],
              "status": 200,
              "status_text": ""
            }
          },
          "base_uri": "https://localhost:8080/",
          "height": 109
        },
        "id": "ogkcD84SjPeb",
        "outputId": "89c0f8e3-757a-40b5-eef8-6b5519e3df00"
      },
      "source": [
        "from google.colab import files\n",
        "files.upload()"
      ],
      "execution_count": 32,
      "outputs": [
        {
          "output_type": "display_data",
          "data": {
            "text/html": [
              "\n",
              "     <input type=\"file\" id=\"files-5e34240a-0a96-44d5-a240-58dbfc5c6898\" name=\"files[]\" multiple disabled\n",
              "        style=\"border:none\" />\n",
              "     <output id=\"result-5e34240a-0a96-44d5-a240-58dbfc5c6898\">\n",
              "      Upload widget is only available when the cell has been executed in the\n",
              "      current browser session. Please rerun this cell to enable.\n",
              "      </output>\n",
              "      <script src=\"/nbextensions/google.colab/files.js\"></script> "
            ],
            "text/plain": [
              "<IPython.core.display.HTML object>"
            ]
          },
          "metadata": {
            "tags": []
          }
        },
        {
          "output_type": "stream",
          "text": [
            "Saving College_admission.csv to College_admission (2).csv\n"
          ],
          "name": "stdout"
        },
        {
          "output_type": "execute_result",
          "data": {
            "text/plain": [
              "{'College_admission.csv': b'admit,gre,gpa,ses,Gender_Male,Race,rank\\r\\n0,380,3.61,1,0,3,3\\r\\n1,660,3.67,2,0,2,3\\r\\n1,800,4,2,0,2,1\\r\\n1,640,3.19,1,1,2,4\\r\\n0,520,2.93,3,1,2,4\\r\\n1,760,3,2,1,1,2\\r\\n1,560,2.98,2,1,2,1\\r\\n0,400,3.08,2,0,2,2\\r\\n1,540,3.39,1,1,1,3\\r\\n0,700,3.92,1,0,2,2\\r\\n0,800,4,1,1,1,4\\r\\n0,440,3.22,3,0,2,1\\r\\n1,760,4,3,1,2,1\\r\\n0,700,3.08,2,0,2,2\\r\\n1,700,4,2,1,1,1\\r\\n0,480,3.44,3,0,1,3\\r\\n0,780,3.87,2,0,3,4\\r\\n0,360,2.56,3,1,3,3\\r\\n0,800,3.75,1,1,3,2\\r\\n1,540,3.81,1,0,3,1\\r\\n0,500,3.17,3,0,2,3\\r\\n1,660,3.63,1,0,1,2\\r\\n0,600,2.82,1,0,3,4\\r\\n0,680,3.19,1,0,1,4\\r\\n1,760,3.35,2,0,2,2\\r\\n1,800,3.66,2,1,1,1\\r\\n1,620,3.61,2,0,1,1\\r\\n1,520,3.74,2,0,3,4\\r\\n1,780,3.22,1,0,1,2\\r\\n0,520,3.29,1,0,1,1\\r\\n0,540,3.78,1,1,1,4\\r\\n0,760,3.35,2,1,1,3\\r\\n0,600,3.4,3,0,1,3\\r\\n1,800,4,3,0,1,3\\r\\n0,360,3.14,1,1,2,1\\r\\n0,400,3.05,3,0,2,2\\r\\n0,580,3.25,1,0,2,1\\r\\n0,520,2.9,2,0,2,3\\r\\n1,500,3.13,2,0,2,2\\r\\n1,520,2.68,2,0,1,3\\r\\n0,560,2.42,1,1,3,2\\r\\n1,580,3.32,1,0,1,2\\r\\n1,600,3.15,2,1,1,2\\r\\n0,500,3.31,2,0,2,3\\r\\n0,700,2.94,1,0,3,2\\r\\n1,460,3.45,2,1,3,3\\r\\n1,580,3.46,3,1,1,2\\r\\n0,500,2.97,3,0,2,4\\r\\n0,440,2.48,3,0,3,4\\r\\n0,400,3.35,3,0,1,3\\r\\n0,640,3.86,2,1,3,3\\r\\n0,440,3.13,2,0,2,4\\r\\n0,740,3.37,2,1,3,4\\r\\n1,680,3.27,2,0,2,2\\r\\n0,660,3.34,1,0,1,3\\r\\n1,740,4,1,1,2,3\\r\\n0,560,3.19,3,1,1,3\\r\\n0,380,2.94,3,0,2,3\\r\\n0,400,3.65,3,1,2,2\\r\\n0,600,2.82,3,1,1,4\\r\\n1,620,3.18,2,1,1,2\\r\\n0,560,3.32,1,0,3,4\\r\\n0,640,3.67,1,1,2,3\\r\\n1,680,3.85,1,1,3,3\\r\\n0,580,4,2,1,3,3\\r\\n0,600,3.59,1,0,1,2\\r\\n0,740,3.62,3,1,2,4\\r\\n0,620,3.3,2,1,3,1\\r\\n0,580,3.69,3,0,3,1\\r\\n0,800,3.73,1,1,1,1\\r\\n0,640,4,1,1,1,3\\r\\n0,300,2.92,1,1,1,4\\r\\n0,480,3.39,2,0,2,4\\r\\n0,580,4,3,0,3,2\\r\\n0,720,3.45,2,1,2,4\\r\\n0,720,4,2,0,3,3\\r\\n0,560,3.36,1,1,2,3\\r\\n1,800,4,3,0,3,3\\r\\n0,540,3.12,3,1,2,1\\r\\n1,620,4,2,0,2,1\\r\\n0,700,2.9,2,0,2,4\\r\\n0,620,3.07,3,1,2,2\\r\\n0,500,2.71,2,0,3,2\\r\\n0,380,2.91,3,1,2,4\\r\\n1,500,3.6,1,1,1,3\\r\\n0,520,2.98,2,0,2,2\\r\\n0,600,3.32,1,0,3,2\\r\\n0,600,3.48,1,0,1,2\\r\\n0,700,3.28,3,0,3,1\\r\\n1,660,4,1,1,1,2\\r\\n0,700,3.83,2,0,2,2\\r\\n1,720,3.64,2,0,2,1\\r\\n0,800,3.9,3,1,1,2\\r\\n0,580,2.93,3,1,1,2\\r\\n1,660,3.44,2,0,3,2\\r\\n0,660,3.33,2,1,3,2\\r\\n0,640,3.52,2,1,3,4\\r\\n0,480,3.57,3,1,2,2\\r\\n0,700,2.88,2,1,3,2\\r\\n0,400,3.31,3,1,2,3\\r\\n0,340,3.15,2,0,1,3\\r\\n0,580,3.57,1,1,2,3\\r\\n0,380,3.33,3,0,3,4\\r\\n0,540,3.94,3,0,1,3\\r\\n1,660,3.95,2,1,1,2\\r\\n1,740,2.97,1,1,1,2\\r\\n1,700,3.56,1,1,2,1\\r\\n0,480,3.13,2,0,1,2\\r\\n0,400,2.93,1,1,3,3\\r\\n0,480,3.45,3,0,1,2\\r\\n0,680,3.08,3,0,3,4\\r\\n0,420,3.41,2,1,3,4\\r\\n0,360,3,1,0,1,3\\r\\n0,600,3.22,3,1,2,1\\r\\n0,720,3.84,1,1,2,3\\r\\n0,620,3.99,2,1,2,3\\r\\n1,440,3.45,1,1,3,2\\r\\n0,700,3.72,2,1,2,2\\r\\n1,800,3.7,1,0,2,1\\r\\n0,340,2.92,3,1,2,3\\r\\n1,520,3.74,2,0,2,2\\r\\n1,480,2.67,1,0,1,2\\r\\n0,520,2.85,3,0,1,3\\r\\n0,500,2.98,3,0,2,3\\r\\n0,720,3.88,2,0,3,3\\r\\n0,540,3.38,3,0,3,4\\r\\n1,600,3.54,3,0,3,1\\r\\n0,740,3.74,1,0,3,4\\r\\n0,540,3.19,1,1,3,2\\r\\n0,460,3.15,3,0,2,4\\r\\n1,620,3.17,1,0,3,2\\r\\n0,640,2.79,3,1,1,2\\r\\n0,580,3.4,3,0,1,2\\r\\n0,500,3.08,2,1,2,3\\r\\n0,560,2.95,3,1,1,2\\r\\n0,500,3.57,2,1,3,3\\r\\n0,560,3.33,3,1,2,4\\r\\n0,700,4,3,1,1,3\\r\\n0,620,3.4,3,0,1,2\\r\\n1,600,3.58,3,0,3,1\\r\\n0,640,3.93,2,1,2,2\\r\\n1,700,3.52,2,0,1,4\\r\\n0,620,3.94,3,0,2,4\\r\\n0,580,3.4,2,1,3,3\\r\\n0,580,3.4,1,1,1,4\\r\\n0,380,3.43,2,0,1,3\\r\\n0,480,3.4,1,1,3,2\\r\\n0,560,2.71,3,1,1,3\\r\\n1,480,2.91,3,1,1,1\\r\\n0,740,3.31,3,0,1,1\\r\\n1,800,3.74,3,0,1,1\\r\\n0,400,3.38,2,1,1,2\\r\\n1,640,3.94,3,1,1,2\\r\\n0,580,3.46,3,1,1,3\\r\\n0,620,3.69,3,0,1,3\\r\\n1,580,2.86,3,1,1,4\\r\\n0,560,2.52,3,0,3,2\\r\\n1,480,3.58,1,1,1,1\\r\\n0,660,3.49,2,0,3,2\\r\\n0,700,3.82,2,1,1,3\\r\\n0,600,3.13,1,1,1,2\\r\\n0,640,3.5,2,0,1,2\\r\\n1,700,3.56,3,1,2,2\\r\\n0,520,2.73,1,0,1,2\\r\\n0,580,3.3,1,0,3,2\\r\\n0,700,4,2,1,3,1\\r\\n0,440,3.24,3,1,3,4\\r\\n0,720,3.77,3,0,2,3\\r\\n0,500,4,3,0,2,3\\r\\n0,600,3.62,1,1,3,3\\r\\n0,400,3.51,3,1,1,3\\r\\n0,540,2.81,3,0,1,3\\r\\n0,680,3.48,3,0,3,3\\r\\n1,800,3.43,1,0,3,2\\r\\n0,500,3.53,1,1,1,4\\r\\n1,620,3.37,3,1,1,2\\r\\n0,520,2.62,1,1,2,2\\r\\n1,620,3.23,3,1,2,3\\r\\n0,620,3.33,3,0,3,3\\r\\n0,300,3.01,2,0,1,3\\r\\n0,620,3.78,3,0,2,3\\r\\n0,500,3.88,1,0,2,4\\r\\n0,700,4,1,1,3,2\\r\\n1,540,3.84,1,0,3,2\\r\\n0,500,2.79,1,0,2,4\\r\\n0,800,3.6,1,1,2,2\\r\\n0,560,3.61,2,0,3,3\\r\\n0,580,2.88,3,1,3,2\\r\\n0,560,3.07,2,1,2,2\\r\\n0,500,3.35,2,1,3,2\\r\\n1,640,2.94,1,0,2,2\\r\\n0,800,3.54,1,0,2,3\\r\\n0,640,3.76,2,0,2,3\\r\\n0,380,3.59,1,1,1,4\\r\\n1,600,3.47,1,0,2,2\\r\\n0,560,3.59,1,1,1,2\\r\\n0,660,3.07,1,0,3,3\\r\\n1,400,3.23,1,0,3,4\\r\\n0,600,3.63,2,0,3,3\\r\\n0,580,3.77,3,1,2,4\\r\\n0,800,3.31,1,0,3,3\\r\\n1,580,3.2,2,0,2,2\\r\\n1,700,4,3,0,3,1\\r\\n0,420,3.92,1,0,3,4\\r\\n1,600,3.89,1,0,2,1\\r\\n1,780,3.8,3,0,2,3\\r\\n0,740,3.54,2,0,1,1\\r\\n1,640,3.63,3,1,1,1\\r\\n0,540,3.16,3,0,2,3\\r\\n0,580,3.5,3,0,1,2\\r\\n0,740,3.34,2,0,2,4\\r\\n0,580,3.02,3,1,2,2\\r\\n0,460,2.87,1,0,3,2\\r\\n0,640,3.38,1,0,1,3\\r\\n1,600,3.56,3,0,1,2\\r\\n1,660,2.91,2,0,2,3\\r\\n0,340,2.9,1,0,1,1\\r\\n1,460,3.64,3,1,3,1\\r\\n0,460,2.98,2,1,3,1\\r\\n1,560,3.59,2,0,2,2\\r\\n0,540,3.28,2,1,2,3\\r\\n0,680,3.99,2,1,3,3\\r\\n1,480,3.02,1,0,3,1\\r\\n0,800,3.47,1,0,3,3\\r\\n0,800,2.9,2,1,2,2\\r\\n1,720,3.5,1,0,1,3\\r\\n0,620,3.58,1,0,2,2\\r\\n0,540,3.02,3,0,1,4\\r\\n0,480,3.43,1,0,1,2\\r\\n1,720,3.42,3,0,2,2\\r\\n0,580,3.29,1,1,3,4\\r\\n0,600,3.28,1,1,2,3\\r\\n0,380,3.38,1,0,3,2\\r\\n0,420,2.67,3,1,3,3\\r\\n1,800,3.53,3,0,1,1\\r\\n0,620,3.05,2,1,1,2\\r\\n1,660,3.49,2,1,1,2\\r\\n0,480,4,2,1,2,2\\r\\n0,500,2.86,1,0,2,4\\r\\n0,700,3.45,2,0,2,3\\r\\n0,440,2.76,2,0,3,2\\r\\n1,520,3.81,2,0,2,1\\r\\n1,680,2.96,2,1,1,3\\r\\n0,620,3.22,3,0,3,2\\r\\n0,540,3.04,1,1,1,1\\r\\n0,800,3.91,3,1,2,3\\r\\n0,680,3.34,3,0,1,2\\r\\n0,440,3.17,3,0,3,2\\r\\n0,680,3.64,2,1,3,3\\r\\n0,640,3.73,2,1,1,3\\r\\n0,660,3.31,2,1,2,4\\r\\n0,620,3.21,1,0,3,4\\r\\n1,520,4,2,1,1,2\\r\\n1,540,3.55,3,1,3,4\\r\\n1,740,3.52,2,0,1,4\\r\\n0,640,3.35,1,0,2,3\\r\\n1,520,3.3,1,0,1,2\\r\\n1,620,3.95,1,0,1,3\\r\\n0,520,3.51,2,1,1,2\\r\\n0,640,3.81,2,1,3,2\\r\\n0,680,3.11,2,1,1,2\\r\\n0,440,3.15,1,1,3,2\\r\\n1,520,3.19,1,1,1,3\\r\\n1,620,3.95,3,0,3,3\\r\\n1,520,3.9,2,1,3,3\\r\\n0,380,3.34,3,0,2,3\\r\\n0,560,3.24,2,1,1,4\\r\\n1,600,3.64,1,0,3,3\\r\\n1,680,3.46,2,0,3,2\\r\\n0,500,2.81,3,1,3,3\\r\\n1,640,3.95,3,1,3,2\\r\\n0,540,3.33,3,1,1,3\\r\\n1,680,3.67,3,0,3,2\\r\\n0,660,3.32,1,1,2,1\\r\\n0,520,3.12,3,0,1,2\\r\\n1,600,2.98,1,1,2,2\\r\\n0,460,3.77,2,0,3,3\\r\\n1,580,3.58,3,1,2,1\\r\\n1,680,3,2,1,1,4\\r\\n1,660,3.14,2,1,2,2\\r\\n0,660,3.94,2,1,1,2\\r\\n0,360,3.27,1,1,3,3\\r\\n0,660,3.45,3,0,2,4\\r\\n0,520,3.1,2,1,2,4\\r\\n1,440,3.39,3,0,3,2\\r\\n0,600,3.31,2,1,3,4\\r\\n1,800,3.22,1,1,3,1\\r\\n1,660,3.7,1,1,1,4\\r\\n0,800,3.15,2,1,1,4\\r\\n0,420,2.26,2,1,2,4\\r\\n1,620,3.45,3,0,3,2\\r\\n0,800,2.78,1,0,2,2\\r\\n0,680,3.7,2,1,1,2\\r\\n0,800,3.97,2,0,1,1\\r\\n0,480,2.55,2,0,2,1\\r\\n0,520,3.25,2,0,1,3\\r\\n0,560,3.16,3,0,2,1\\r\\n0,460,3.07,2,0,2,2\\r\\n0,540,3.5,2,1,3,2\\r\\n0,720,3.4,2,0,1,3\\r\\n0,640,3.3,2,1,3,2\\r\\n1,660,3.6,2,0,1,3\\r\\n1,400,3.15,3,0,3,2\\r\\n1,680,3.98,3,1,1,2\\r\\n0,220,2.83,1,1,3,3\\r\\n0,580,3.46,1,0,1,4\\r\\n1,540,3.17,1,0,1,1\\r\\n0,580,3.51,1,1,1,2\\r\\n0,540,3.13,2,1,3,2\\r\\n0,440,2.98,2,0,3,3\\r\\n0,560,4,1,0,3,3\\r\\n0,660,3.67,2,0,1,2\\r\\n0,660,3.77,2,0,3,3\\r\\n1,520,3.65,2,1,2,4\\r\\n0,540,3.46,1,0,3,4\\r\\n1,300,2.84,3,1,1,2\\r\\n1,340,3,2,0,3,2\\r\\n1,780,3.63,1,1,1,4\\r\\n1,480,3.71,2,1,1,4\\r\\n0,540,3.28,1,1,3,1\\r\\n0,460,3.14,1,0,2,3\\r\\n0,460,3.58,2,0,1,2\\r\\n0,500,3.01,1,1,2,4\\r\\n0,420,2.69,2,1,1,2\\r\\n0,520,2.7,1,1,1,3\\r\\n0,680,3.9,3,1,2,1\\r\\n0,680,3.31,3,0,2,2\\r\\n1,560,3.48,1,1,3,2\\r\\n0,580,3.34,1,0,1,2\\r\\n0,500,2.93,2,0,2,4\\r\\n0,740,4,2,0,1,3\\r\\n0,660,3.59,1,0,3,3\\r\\n0,420,2.96,2,1,2,1\\r\\n0,560,3.43,2,0,2,3\\r\\n1,460,3.64,2,0,3,3\\r\\n1,620,3.71,3,0,1,1\\r\\n0,520,3.15,1,0,3,3\\r\\n0,620,3.09,3,0,2,4\\r\\n0,540,3.2,2,1,1,1\\r\\n1,660,3.47,2,1,2,3\\r\\n0,500,3.23,3,0,1,4\\r\\n1,560,2.65,1,0,3,3\\r\\n0,500,3.95,2,0,1,4\\r\\n0,580,3.06,1,1,1,2\\r\\n0,520,3.35,3,0,2,3\\r\\n0,500,3.03,2,0,2,3\\r\\n0,600,3.35,3,1,1,2\\r\\n0,580,3.8,1,1,3,2\\r\\n0,400,3.36,3,0,1,2\\r\\n0,620,2.85,1,0,2,2\\r\\n1,780,4,3,1,3,2\\r\\n0,620,3.43,3,0,2,3\\r\\n1,580,3.12,1,0,2,3\\r\\n0,700,3.52,3,0,3,2\\r\\n1,540,3.78,1,0,3,2\\r\\n1,760,2.81,2,1,2,1\\r\\n0,700,3.27,2,0,2,2\\r\\n0,720,3.31,3,1,2,1\\r\\n1,560,3.69,1,0,3,3\\r\\n0,720,3.94,3,1,3,3\\r\\n1,520,4,1,0,1,1\\r\\n1,540,3.49,1,1,3,1\\r\\n0,680,3.14,1,1,1,2\\r\\n0,460,3.44,2,1,3,2\\r\\n1,560,3.36,1,0,1,1\\r\\n0,480,2.78,3,0,1,3\\r\\n0,460,2.93,1,1,1,3\\r\\n0,620,3.63,2,1,2,3\\r\\n0,580,4,1,0,2,1\\r\\n0,800,3.89,3,0,1,2\\r\\n1,540,3.77,3,0,1,2\\r\\n1,680,3.76,1,1,2,3\\r\\n1,680,2.42,1,1,1,1\\r\\n1,620,3.37,3,1,1,1\\r\\n0,560,3.78,1,1,3,2\\r\\n0,560,3.49,3,0,1,4\\r\\n0,620,3.63,3,1,2,2\\r\\n1,800,4,2,0,3,2\\r\\n0,640,3.12,2,1,1,3\\r\\n0,540,2.7,2,1,1,2\\r\\n0,700,3.65,1,0,3,2\\r\\n1,540,3.49,3,1,1,2\\r\\n0,540,3.51,3,1,3,2\\r\\n0,660,4,1,1,3,1\\r\\n1,480,2.62,2,1,1,2\\r\\n0,420,3.02,1,1,3,1\\r\\n1,740,3.86,3,0,2,2\\r\\n0,580,3.36,3,1,2,2\\r\\n0,640,3.17,2,0,2,2\\r\\n0,640,3.51,3,1,3,2\\r\\n1,800,3.05,1,1,3,2\\r\\n1,660,3.88,1,0,1,2\\r\\n1,600,3.38,3,0,3,3\\r\\n1,620,3.75,2,0,2,2\\r\\n1,460,3.99,3,1,3,3\\r\\n0,620,4,2,0,2,2\\r\\n0,560,3.04,2,0,1,3\\r\\n0,460,2.63,3,0,2,2\\r\\n0,700,3.65,1,1,1,2\\r\\n0,600,3.89,2,1,3,3\\r\\n'}"
            ]
          },
          "metadata": {
            "tags": []
          },
          "execution_count": 32
        }
      ]
    },
    {
      "cell_type": "code",
      "metadata": {
        "colab": {
          "base_uri": "https://localhost:8080/",
          "height": 196
        },
        "id": "CiDvd4N_jSr7",
        "outputId": "a87c2d52-2812-44dc-e3b1-1422b636dd13"
      },
      "source": [
        "dataDf = pd.read_csv(\"College_admission.csv\") \n",
        "dataDf.head() #This command will help us look at what the data set looks like in general"
      ],
      "execution_count": 33,
      "outputs": [
        {
          "output_type": "execute_result",
          "data": {
            "text/html": [
              "<div>\n",
              "<style scoped>\n",
              "    .dataframe tbody tr th:only-of-type {\n",
              "        vertical-align: middle;\n",
              "    }\n",
              "\n",
              "    .dataframe tbody tr th {\n",
              "        vertical-align: top;\n",
              "    }\n",
              "\n",
              "    .dataframe thead th {\n",
              "        text-align: right;\n",
              "    }\n",
              "</style>\n",
              "<table border=\"1\" class=\"dataframe\">\n",
              "  <thead>\n",
              "    <tr style=\"text-align: right;\">\n",
              "      <th></th>\n",
              "      <th>admit</th>\n",
              "      <th>gre</th>\n",
              "      <th>gpa</th>\n",
              "      <th>ses</th>\n",
              "      <th>Gender_Male</th>\n",
              "      <th>Race</th>\n",
              "      <th>rank</th>\n",
              "    </tr>\n",
              "  </thead>\n",
              "  <tbody>\n",
              "    <tr>\n",
              "      <th>0</th>\n",
              "      <td>0</td>\n",
              "      <td>380</td>\n",
              "      <td>3.61</td>\n",
              "      <td>1</td>\n",
              "      <td>0</td>\n",
              "      <td>3</td>\n",
              "      <td>3</td>\n",
              "    </tr>\n",
              "    <tr>\n",
              "      <th>1</th>\n",
              "      <td>1</td>\n",
              "      <td>660</td>\n",
              "      <td>3.67</td>\n",
              "      <td>2</td>\n",
              "      <td>0</td>\n",
              "      <td>2</td>\n",
              "      <td>3</td>\n",
              "    </tr>\n",
              "    <tr>\n",
              "      <th>2</th>\n",
              "      <td>1</td>\n",
              "      <td>800</td>\n",
              "      <td>4.00</td>\n",
              "      <td>2</td>\n",
              "      <td>0</td>\n",
              "      <td>2</td>\n",
              "      <td>1</td>\n",
              "    </tr>\n",
              "    <tr>\n",
              "      <th>3</th>\n",
              "      <td>1</td>\n",
              "      <td>640</td>\n",
              "      <td>3.19</td>\n",
              "      <td>1</td>\n",
              "      <td>1</td>\n",
              "      <td>2</td>\n",
              "      <td>4</td>\n",
              "    </tr>\n",
              "    <tr>\n",
              "      <th>4</th>\n",
              "      <td>0</td>\n",
              "      <td>520</td>\n",
              "      <td>2.93</td>\n",
              "      <td>3</td>\n",
              "      <td>1</td>\n",
              "      <td>2</td>\n",
              "      <td>4</td>\n",
              "    </tr>\n",
              "  </tbody>\n",
              "</table>\n",
              "</div>"
            ],
            "text/plain": [
              "   admit  gre   gpa  ses  Gender_Male  Race  rank\n",
              "0      0  380  3.61    1            0     3     3\n",
              "1      1  660  3.67    2            0     2     3\n",
              "2      1  800  4.00    2            0     2     1\n",
              "3      1  640  3.19    1            1     2     4\n",
              "4      0  520  2.93    3            1     2     4"
            ]
          },
          "metadata": {
            "tags": []
          },
          "execution_count": 33
        }
      ]
    },
    {
      "cell_type": "markdown",
      "metadata": {
        "id": "MfpAc4mtpK9m"
      },
      "source": [
        "### **Cleaning up Data**"
      ]
    },
    {
      "cell_type": "markdown",
      "metadata": {
        "id": "M-phk76rpNo8"
      },
      "source": [
        "Data Engineering is a huge topic in itself, so in this course, we will largely avoid any problematic data. In the following cells, we will remove any rows with empty cells, and the like. Feel free to try this on your own on another data set, if you'd like to."
      ]
    },
    {
      "cell_type": "code",
      "metadata": {
        "colab": {
          "base_uri": "https://localhost:8080/",
          "height": 196
        },
        "id": "vQrB7ZhPjV0f",
        "outputId": "b5e98ce7-7dcb-402a-90ff-8b5bedea7987"
      },
      "source": [
        "dataDf = dataDf.dropna() #Removes rows with Null Values.\n",
        "dataDf.head()"
      ],
      "execution_count": 34,
      "outputs": [
        {
          "output_type": "execute_result",
          "data": {
            "text/html": [
              "<div>\n",
              "<style scoped>\n",
              "    .dataframe tbody tr th:only-of-type {\n",
              "        vertical-align: middle;\n",
              "    }\n",
              "\n",
              "    .dataframe tbody tr th {\n",
              "        vertical-align: top;\n",
              "    }\n",
              "\n",
              "    .dataframe thead th {\n",
              "        text-align: right;\n",
              "    }\n",
              "</style>\n",
              "<table border=\"1\" class=\"dataframe\">\n",
              "  <thead>\n",
              "    <tr style=\"text-align: right;\">\n",
              "      <th></th>\n",
              "      <th>admit</th>\n",
              "      <th>gre</th>\n",
              "      <th>gpa</th>\n",
              "      <th>ses</th>\n",
              "      <th>Gender_Male</th>\n",
              "      <th>Race</th>\n",
              "      <th>rank</th>\n",
              "    </tr>\n",
              "  </thead>\n",
              "  <tbody>\n",
              "    <tr>\n",
              "      <th>0</th>\n",
              "      <td>0</td>\n",
              "      <td>380</td>\n",
              "      <td>3.61</td>\n",
              "      <td>1</td>\n",
              "      <td>0</td>\n",
              "      <td>3</td>\n",
              "      <td>3</td>\n",
              "    </tr>\n",
              "    <tr>\n",
              "      <th>1</th>\n",
              "      <td>1</td>\n",
              "      <td>660</td>\n",
              "      <td>3.67</td>\n",
              "      <td>2</td>\n",
              "      <td>0</td>\n",
              "      <td>2</td>\n",
              "      <td>3</td>\n",
              "    </tr>\n",
              "    <tr>\n",
              "      <th>2</th>\n",
              "      <td>1</td>\n",
              "      <td>800</td>\n",
              "      <td>4.00</td>\n",
              "      <td>2</td>\n",
              "      <td>0</td>\n",
              "      <td>2</td>\n",
              "      <td>1</td>\n",
              "    </tr>\n",
              "    <tr>\n",
              "      <th>3</th>\n",
              "      <td>1</td>\n",
              "      <td>640</td>\n",
              "      <td>3.19</td>\n",
              "      <td>1</td>\n",
              "      <td>1</td>\n",
              "      <td>2</td>\n",
              "      <td>4</td>\n",
              "    </tr>\n",
              "    <tr>\n",
              "      <th>4</th>\n",
              "      <td>0</td>\n",
              "      <td>520</td>\n",
              "      <td>2.93</td>\n",
              "      <td>3</td>\n",
              "      <td>1</td>\n",
              "      <td>2</td>\n",
              "      <td>4</td>\n",
              "    </tr>\n",
              "  </tbody>\n",
              "</table>\n",
              "</div>"
            ],
            "text/plain": [
              "   admit  gre   gpa  ses  Gender_Male  Race  rank\n",
              "0      0  380  3.61    1            0     3     3\n",
              "1      1  660  3.67    2            0     2     3\n",
              "2      1  800  4.00    2            0     2     1\n",
              "3      1  640  3.19    1            1     2     4\n",
              "4      0  520  2.93    3            1     2     4"
            ]
          },
          "metadata": {
            "tags": []
          },
          "execution_count": 34
        }
      ]
    },
    {
      "cell_type": "markdown",
      "metadata": {
        "id": "AuB_EfeZqGcP"
      },
      "source": [
        "### **Train-Test Split**"
      ]
    },
    {
      "cell_type": "markdown",
      "metadata": {
        "id": "dUIrb4Lvq39s"
      },
      "source": [
        "First, we convert the data to train and test datasets. "
      ]
    },
    {
      "cell_type": "markdown",
      "metadata": {
        "id": "AXlPu5CNniyg"
      },
      "source": [
        "Here, we split the data into input and output dataframes."
      ]
    },
    {
      "cell_type": "code",
      "metadata": {
        "id": "mjulA0UenECM"
      },
      "source": [
        "X = dataDf[[\"gre\",\"gpa\",\"ses\",\"Gender_Male\",\"Race\",\"rank\"]]\n",
        "y = dataDf[[\"admit\"]]"
      ],
      "execution_count": 35,
      "outputs": []
    },
    {
      "cell_type": "markdown",
      "metadata": {
        "id": "EYg0FbI6nl7w"
      },
      "source": [
        "Then, we use the train_test_split method from sklearn to split our data into train and test data sets."
      ]
    },
    {
      "cell_type": "code",
      "metadata": {
        "id": "sqTsZ3nbnPMJ"
      },
      "source": [
        "from sklearn.model_selection import train_test_split\n",
        "train_x, test_x, train_y, test_y = train_test_split(X,y,test_size=0.2, random_state = 4)"
      ],
      "execution_count": 36,
      "outputs": []
    },
    {
      "cell_type": "markdown",
      "metadata": {
        "id": "Dv_J6g0l_haH"
      },
      "source": [
        "### **Training**"
      ]
    },
    {
      "cell_type": "markdown",
      "metadata": {
        "id": "GWyIfkzB_keK"
      },
      "source": [
        "Now, we will train a Support Vector Machine to predict the admittance of the student."
      ]
    },
    {
      "cell_type": "code",
      "metadata": {
        "colab": {
          "base_uri": "https://localhost:8080/"
        },
        "id": "YQhRK9L_jbWE",
        "outputId": "135686af-0fa7-472e-9c5b-ecf3b373f329"
      },
      "source": [
        "from sklearn import svm #Importing this library is required to create an SVM-based model.\n",
        "clf = svm.SVC(kernel=\"rbf\") #This creates an instance of an SVM that can be trained on the data.\n",
        "clf.fit(train_x,train_y) #This fits the model to the training data"
      ],
      "execution_count": 37,
      "outputs": [
        {
          "output_type": "stream",
          "text": [
            "/usr/local/lib/python3.7/dist-packages/sklearn/utils/validation.py:760: DataConversionWarning: A column-vector y was passed when a 1d array was expected. Please change the shape of y to (n_samples, ), for example using ravel().\n",
            "  y = column_or_1d(y, warn=True)\n"
          ],
          "name": "stderr"
        },
        {
          "output_type": "execute_result",
          "data": {
            "text/plain": [
              "SVC(C=1.0, break_ties=False, cache_size=200, class_weight=None, coef0=0.0,\n",
              "    decision_function_shape='ovr', degree=3, gamma='scale', kernel='rbf',\n",
              "    max_iter=-1, probability=False, random_state=None, shrinking=True,\n",
              "    tol=0.001, verbose=False)"
            ]
          },
          "metadata": {
            "tags": []
          },
          "execution_count": 37
        }
      ]
    },
    {
      "cell_type": "markdown",
      "metadata": {
        "id": "rT5uzKeYEebn"
      },
      "source": [
        "### **Predictions and Accuracy Test**"
      ]
    },
    {
      "cell_type": "markdown",
      "metadata": {
        "id": "9FGu-uGSEpkC"
      },
      "source": [
        "We use the following syntax to predict the output from the Test Input Data."
      ]
    },
    {
      "cell_type": "code",
      "metadata": {
        "id": "HsBM-oonjrU3"
      },
      "source": [
        "predictions = clf.predict(test_x) #The predict functionality allows one to predict based on the model trained."
      ],
      "execution_count": 38,
      "outputs": []
    },
    {
      "cell_type": "markdown",
      "metadata": {
        "id": "Xj8sZuwCE5Db"
      },
      "source": [
        "Here, we apply the Accuracy Score to see how good this model is."
      ]
    },
    {
      "cell_type": "code",
      "metadata": {
        "colab": {
          "base_uri": "https://localhost:8080/"
        },
        "id": "SdiOfhOBjzD0",
        "outputId": "b9736c9d-7f98-47ac-ab22-2e59272fffdb"
      },
      "source": [
        "from sklearn import metrics\n",
        "print(metrics.accuracy_score(test_y,predictions))"
      ],
      "execution_count": 39,
      "outputs": [
        {
          "output_type": "stream",
          "text": [
            "0.7\n"
          ],
          "name": "stdout"
        }
      ]
    },
    {
      "cell_type": "markdown",
      "metadata": {
        "id": "GOEobXPKFoNg"
      },
      "source": [
        "The accuracy score becomes closer to 1, as accuracy increases. You may remember that we applied Decision Trees to this very same problem, to somewhat poorer results, depending on what you ended up with. After all, this is a somewhat randomized process. Clearly, SVMs do better on this problem, and it is important to consider which algorithms work best for different problems when implementing a solution."
      ]
    },
    {
      "cell_type": "markdown",
      "metadata": {
        "id": "aRvN11lFGj5R"
      },
      "source": [
        "In the following cells, repeat what you have seen above, starting from the Train-Test Split, except change the kernel type to one of these, except for 'rbf': *{‘linear’, ‘poly’, ‘rbf’, ‘sigmoid’}*.\n",
        "See if this makes your accuracy better or worse."
      ]
    },
    {
      "cell_type": "code",
      "metadata": {
        "id": "34b-MMaYj1sJ"
      },
      "source": [],
      "execution_count": 39,
      "outputs": []
    }
  ]
}